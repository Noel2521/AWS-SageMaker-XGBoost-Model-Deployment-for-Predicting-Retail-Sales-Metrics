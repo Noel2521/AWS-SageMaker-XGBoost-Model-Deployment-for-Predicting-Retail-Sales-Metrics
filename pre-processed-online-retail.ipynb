{
 "cells": [
  {
   "cell_type": "code",
   "execution_count": 5,
   "id": "d3e4c85b",
   "metadata": {},
   "outputs": [
    {
     "name": "stdout",
     "output_type": "stream",
     "text": [
      "Preprocessed_Online_Retail.csv\n"
     ]
    }
   ],
   "source": [
    "import boto3\n",
    "\n",
    "s3 = boto3.resource('s3')\n",
    "bucket = s3.Bucket('preprocessed-online-retail-dataset')\n",
    "for obj in bucket.objects.all():\n",
    "    print(obj.key)\n"
   ]
  },
  {
   "cell_type": "code",
   "execution_count": 7,
   "id": "52eb5dd7",
   "metadata": {},
   "outputs": [
    {
     "data": {
      "text/html": [
       "<pre style=\"white-space:pre;overflow-x:auto;line-height:normal;font-family:Menlo,'DejaVu Sans Mono',consolas,'Courier New',monospace\"><span style=\"color: #7fbfbf; text-decoration-color: #7fbfbf\">[12/18/24 10:26:02] </span><span style=\"color: #0069ff; text-decoration-color: #0069ff; font-weight: bold\">INFO    </span> Defaulting to only available Python version: py3                     <a href=\"file:///home/ec2-user/anaconda3/envs/python3/lib/python3.10/site-packages/sagemaker/image_uris.py\" target=\"_blank\"><span style=\"color: #7f7f7f; text-decoration-color: #7f7f7f\">image_uris.py</span></a><span style=\"color: #7f7f7f; text-decoration-color: #7f7f7f\">:</span><a href=\"file:///home/ec2-user/anaconda3/envs/python3/lib/python3.10/site-packages/sagemaker/image_uris.py#604\" target=\"_blank\"><span style=\"color: #7f7f7f; text-decoration-color: #7f7f7f\">604</span></a>\n",
       "</pre>\n"
      ],
      "text/plain": [
       "\u001b[2;36m[12/18/24 10:26:02]\u001b[0m\u001b[2;36m \u001b[0m\u001b[1;38;2;0;105;255mINFO    \u001b[0m Defaulting to only available Python version: py3                     \u001b]8;id=632160;file:///home/ec2-user/anaconda3/envs/python3/lib/python3.10/site-packages/sagemaker/image_uris.py\u001b\\\u001b[2mimage_uris.py\u001b[0m\u001b]8;;\u001b\\\u001b[2m:\u001b[0m\u001b]8;id=566280;file:///home/ec2-user/anaconda3/envs/python3/lib/python3.10/site-packages/sagemaker/image_uris.py#604\u001b\\\u001b[2m604\u001b[0m\u001b]8;;\u001b\\\n"
      ]
     },
     "metadata": {},
     "output_type": "display_data"
    },
    {
     "data": {
      "text/html": [
       "<pre style=\"white-space:pre;overflow-x:auto;line-height:normal;font-family:Menlo,'DejaVu Sans Mono',consolas,'Courier New',monospace\"><span style=\"color: #7fbfbf; text-decoration-color: #7fbfbf\">                    </span><span style=\"color: #0069ff; text-decoration-color: #0069ff; font-weight: bold\">INFO    </span> Defaulting to only supported image scope: cpu.                       <a href=\"file:///home/ec2-user/anaconda3/envs/python3/lib/python3.10/site-packages/sagemaker/image_uris.py\" target=\"_blank\"><span style=\"color: #7f7f7f; text-decoration-color: #7f7f7f\">image_uris.py</span></a><span style=\"color: #7f7f7f; text-decoration-color: #7f7f7f\">:</span><a href=\"file:///home/ec2-user/anaconda3/envs/python3/lib/python3.10/site-packages/sagemaker/image_uris.py#528\" target=\"_blank\"><span style=\"color: #7f7f7f; text-decoration-color: #7f7f7f\">528</span></a>\n",
       "</pre>\n"
      ],
      "text/plain": [
       "\u001b[2;36m                   \u001b[0m\u001b[2;36m \u001b[0m\u001b[1;38;2;0;105;255mINFO    \u001b[0m Defaulting to only supported image scope: cpu.                       \u001b]8;id=343732;file:///home/ec2-user/anaconda3/envs/python3/lib/python3.10/site-packages/sagemaker/image_uris.py\u001b\\\u001b[2mimage_uris.py\u001b[0m\u001b]8;;\u001b\\\u001b[2m:\u001b[0m\u001b]8;id=83679;file:///home/ec2-user/anaconda3/envs/python3/lib/python3.10/site-packages/sagemaker/image_uris.py#528\u001b\\\u001b[2m528\u001b[0m\u001b]8;;\u001b\\\n"
      ]
     },
     "metadata": {},
     "output_type": "display_data"
    },
    {
     "data": {
      "text/html": [
       "<pre style=\"white-space:pre;overflow-x:auto;line-height:normal;font-family:Menlo,'DejaVu Sans Mono',consolas,'Courier New',monospace\"><span style=\"color: #7fbfbf; text-decoration-color: #7fbfbf\">                    </span><span style=\"color: #0069ff; text-decoration-color: #0069ff; font-weight: bold\">INFO    </span> SageMaker Python SDK will collect telemetry to help us better  <a href=\"file:///home/ec2-user/anaconda3/envs/python3/lib/python3.10/site-packages/sagemaker/telemetry/telemetry_logging.py\" target=\"_blank\"><span style=\"color: #7f7f7f; text-decoration-color: #7f7f7f\">telemetry_logging.py</span></a><span style=\"color: #7f7f7f; text-decoration-color: #7f7f7f\">:</span><a href=\"file:///home/ec2-user/anaconda3/envs/python3/lib/python3.10/site-packages/sagemaker/telemetry/telemetry_logging.py#90\" target=\"_blank\"><span style=\"color: #7f7f7f; text-decoration-color: #7f7f7f\">90</span></a>\n",
       "<span style=\"color: #7fbfbf; text-decoration-color: #7fbfbf\">                    </span>         understand our user's needs, diagnose issues, and deliver      <span style=\"color: #7f7f7f; text-decoration-color: #7f7f7f\">                       </span>\n",
       "<span style=\"color: #7fbfbf; text-decoration-color: #7fbfbf\">                    </span>         additional features.                                           <span style=\"color: #7f7f7f; text-decoration-color: #7f7f7f\">                       </span>\n",
       "<span style=\"color: #7fbfbf; text-decoration-color: #7fbfbf\">                    </span>         To opt out of telemetry, please disable via TelemetryOptOut    <span style=\"color: #7f7f7f; text-decoration-color: #7f7f7f\">                       </span>\n",
       "<span style=\"color: #7fbfbf; text-decoration-color: #7fbfbf\">                    </span>         parameter in SDK defaults config. For more information, refer  <span style=\"color: #7f7f7f; text-decoration-color: #7f7f7f\">                       </span>\n",
       "<span style=\"color: #7fbfbf; text-decoration-color: #7fbfbf\">                    </span>         to                                                             <span style=\"color: #7f7f7f; text-decoration-color: #7f7f7f\">                       </span>\n",
       "<span style=\"color: #7fbfbf; text-decoration-color: #7fbfbf\">                    </span>         <span style=\"color: #0069ff; text-decoration-color: #0069ff; text-decoration: underline\">https://sagemaker.readthedocs.io/en/stable/overview.html#confi</span> <span style=\"color: #7f7f7f; text-decoration-color: #7f7f7f\">                       </span>\n",
       "<span style=\"color: #7fbfbf; text-decoration-color: #7fbfbf\">                    </span>         <span style=\"color: #0069ff; text-decoration-color: #0069ff; text-decoration: underline\">guring-and-using-defaults-with-the-sagemaker-python-sdk.</span>       <span style=\"color: #7f7f7f; text-decoration-color: #7f7f7f\">                       </span>\n",
       "</pre>\n"
      ],
      "text/plain": [
       "\u001b[2;36m                   \u001b[0m\u001b[2;36m \u001b[0m\u001b[1;38;2;0;105;255mINFO    \u001b[0m SageMaker Python SDK will collect telemetry to help us better  \u001b]8;id=176763;file:///home/ec2-user/anaconda3/envs/python3/lib/python3.10/site-packages/sagemaker/telemetry/telemetry_logging.py\u001b\\\u001b[2mtelemetry_logging.py\u001b[0m\u001b]8;;\u001b\\\u001b[2m:\u001b[0m\u001b]8;id=299755;file:///home/ec2-user/anaconda3/envs/python3/lib/python3.10/site-packages/sagemaker/telemetry/telemetry_logging.py#90\u001b\\\u001b[2m90\u001b[0m\u001b]8;;\u001b\\\n",
       "\u001b[2;36m                    \u001b[0m         understand our user's needs, diagnose issues, and deliver      \u001b[2m                       \u001b[0m\n",
       "\u001b[2;36m                    \u001b[0m         additional features.                                           \u001b[2m                       \u001b[0m\n",
       "\u001b[2;36m                    \u001b[0m         To opt out of telemetry, please disable via TelemetryOptOut    \u001b[2m                       \u001b[0m\n",
       "\u001b[2;36m                    \u001b[0m         parameter in SDK defaults config. For more information, refer  \u001b[2m                       \u001b[0m\n",
       "\u001b[2;36m                    \u001b[0m         to                                                             \u001b[2m                       \u001b[0m\n",
       "\u001b[2;36m                    \u001b[0m         \u001b[4;38;2;0;105;255mhttps://sagemaker.readthedocs.io/en/stable/overview.html#confi\u001b[0m \u001b[2m                       \u001b[0m\n",
       "\u001b[2;36m                    \u001b[0m         \u001b[4;38;2;0;105;255mguring-and-using-defaults-with-the-sagemaker-python-sdk.\u001b[0m       \u001b[2m                       \u001b[0m\n"
      ]
     },
     "metadata": {},
     "output_type": "display_data"
    },
    {
     "data": {
      "text/html": [
       "<pre style=\"white-space:pre;overflow-x:auto;line-height:normal;font-family:Menlo,'DejaVu Sans Mono',consolas,'Courier New',monospace\"><span style=\"color: #7fbfbf; text-decoration-color: #7fbfbf\">                    </span><span style=\"color: #0069ff; text-decoration-color: #0069ff; font-weight: bold\">INFO    </span> Creating training-job with name:                                       <a href=\"file:///home/ec2-user/anaconda3/envs/python3/lib/python3.10/site-packages/sagemaker/session.py\" target=\"_blank\"><span style=\"color: #7f7f7f; text-decoration-color: #7f7f7f\">session.py</span></a><span style=\"color: #7f7f7f; text-decoration-color: #7f7f7f\">:</span><a href=\"file:///home/ec2-user/anaconda3/envs/python3/lib/python3.10/site-packages/sagemaker/session.py#1042\" target=\"_blank\"><span style=\"color: #7f7f7f; text-decoration-color: #7f7f7f\">1042</span></a>\n",
       "<span style=\"color: #7fbfbf; text-decoration-color: #7fbfbf\">                    </span>         sagemaker-xgboost-<span style=\"color: #008080; text-decoration-color: #008080; font-weight: bold\">2024</span>-12-18-10-26-02-958                              <span style=\"color: #7f7f7f; text-decoration-color: #7f7f7f\">               </span>\n",
       "</pre>\n"
      ],
      "text/plain": [
       "\u001b[2;36m                   \u001b[0m\u001b[2;36m \u001b[0m\u001b[1;38;2;0;105;255mINFO    \u001b[0m Creating training-job with name:                                       \u001b]8;id=556371;file:///home/ec2-user/anaconda3/envs/python3/lib/python3.10/site-packages/sagemaker/session.py\u001b\\\u001b[2msession.py\u001b[0m\u001b]8;;\u001b\\\u001b[2m:\u001b[0m\u001b]8;id=904872;file:///home/ec2-user/anaconda3/envs/python3/lib/python3.10/site-packages/sagemaker/session.py#1042\u001b\\\u001b[2m1042\u001b[0m\u001b]8;;\u001b\\\n",
       "\u001b[2;36m                    \u001b[0m         sagemaker-xgboost-\u001b[1;36m2024\u001b[0m-12-18-10-26-02-958                              \u001b[2m               \u001b[0m\n"
      ]
     },
     "metadata": {},
     "output_type": "display_data"
    },
    {
     "name": "stdout",
     "output_type": "stream",
     "text": [
      "2024-12-18 10:26:04 Starting - Starting the training job...\n",
      "2024-12-18 10:26:19 Starting - Preparing the instances for training...\n",
      "2024-12-18 10:26:43 Downloading - Downloading input data...\n",
      "2024-12-18 10:27:13 Downloading - Downloading the training image...\n",
      "2024-12-18 10:28:04 Training - Training image download completed. Training in progress...\u001b[34m[2024-12-18 10:28:16.736 ip-10-0-84-200.ec2.internal:8 INFO utils.py:27] RULE_JOB_STOP_SIGNAL_FILENAME: None\u001b[0m\n",
      "\u001b[34mINFO:sagemaker-containers:Imported framework sagemaker_xgboost_container.training\u001b[0m\n",
      "\u001b[34mINFO:sagemaker-containers:Failed to parse hyperparameter objective value reg:linear to Json.\u001b[0m\n",
      "\u001b[34mReturning the value itself\u001b[0m\n",
      "\u001b[34mINFO:sagemaker-containers:No GPUs detected (normal if no gpus installed)\u001b[0m\n",
      "\u001b[34mINFO:sagemaker_xgboost_container.training:Running XGBoost Sagemaker in algorithm mode\u001b[0m\n",
      "\u001b[34mINFO:root:Determined delimiter of CSV input is ','\u001b[0m\n",
      "\u001b[34mINFO:root:Determined delimiter of CSV input is ','\u001b[0m\n",
      "\u001b[34mINFO:root:Single node training.\u001b[0m\n",
      "\u001b[34m[10:28:16] 101x11 matrix with 1111 entries loaded from /opt/ml/input/data/train?format=csv&label_column=0&delimiter=,\u001b[0m\n",
      "\u001b[34m[2024-12-18 10:28:16.805 ip-10-0-84-200.ec2.internal:8 INFO json_config.py:91] Creating hook from json_config at /opt/ml/input/config/debughookconfig.json.\u001b[0m\n",
      "\u001b[34m[2024-12-18 10:28:16.806 ip-10-0-84-200.ec2.internal:8 INFO hook.py:201] tensorboard_dir has not been set for the hook. SMDebug will not be exporting tensorboard summaries.\u001b[0m\n",
      "\u001b[34m[2024-12-18 10:28:16.806 ip-10-0-84-200.ec2.internal:8 INFO profiler_config_parser.py:102] User has disabled profiler.\u001b[0m\n",
      "\u001b[34m[2024-12-18 10:28:16.807 ip-10-0-84-200.ec2.internal:8 INFO hook.py:255] Saving to /opt/ml/output/tensors\u001b[0m\n",
      "\u001b[34m[2024-12-18 10:28:16.807 ip-10-0-84-200.ec2.internal:8 INFO state_store.py:77] The checkpoint config file /opt/ml/input/config/checkpointconfig.json does not exist.\u001b[0m\n",
      "\u001b[34mINFO:root:Debug hook created from config\u001b[0m\n",
      "\u001b[34mINFO:root:Train matrix has 101 rows\u001b[0m\n",
      "\u001b[34m[10:28:16] WARNING: /workspace/src/objective/regression_obj.cu:167: reg:linear is now deprecated in favor of reg:squarederror.\u001b[0m\n",
      "\u001b[34m[10:28:16] WARNING: /workspace/src/learner.cc:328: \u001b[0m\n",
      "\u001b[34mParameters: { num_round } might not be used.\n",
      "  This may not be accurate due to some parameters are only used in language bindings but\n",
      "  passed down to XGBoost core.  Or some parameters are not used but slip through this\n",
      "  verification. Please open an issue if you find above cases.\u001b[0m\n",
      "\u001b[34m[0]#011train-rmse:375181.87500\u001b[0m\n",
      "\u001b[34m[2024-12-18 10:28:16.811 ip-10-0-84-200.ec2.internal:8 INFO hook.py:423] Monitoring the collections: metrics\u001b[0m\n",
      "\u001b[34m[2024-12-18 10:28:16.814 ip-10-0-84-200.ec2.internal:8 INFO hook.py:486] Hook is writing from the hook with pid: 8\u001b[0m\n",
      "\u001b[34m[1]#011train-rmse:263741.75000\u001b[0m\n",
      "\u001b[34m[2]#011train-rmse:185402.59375\u001b[0m\n",
      "\u001b[34m[3]#011train-rmse:130332.53125\u001b[0m\n",
      "\u001b[34m[4]#011train-rmse:91619.88281\u001b[0m\n",
      "\u001b[34m[5]#011train-rmse:64406.04688\u001b[0m\n",
      "\u001b[34m[6]#011train-rmse:45275.52344\u001b[0m\n",
      "\u001b[34m[7]#011train-rmse:31827.34570\u001b[0m\n",
      "\u001b[34m[8]#011train-rmse:22373.68555\u001b[0m\n",
      "\u001b[34m[9]#011train-rmse:15728.04981\u001b[0m\n",
      "\u001b[34m[10]#011train-rmse:11056.35156\u001b[0m\n",
      "\u001b[34m[11]#011train-rmse:7772.29443\u001b[0m\n",
      "\u001b[34m[12]#011train-rmse:5463.68359\u001b[0m\n",
      "\u001b[34m[13]#011train-rmse:3840.77832\u001b[0m\n",
      "\u001b[34m[14]#011train-rmse:2699.96899\u001b[0m\n",
      "\u001b[34m[15]#011train-rmse:1897.97046\u001b[0m\n",
      "\u001b[34m[16]#011train-rmse:1334.22144\u001b[0m\n",
      "\u001b[34m[17]#011train-rmse:937.95056\u001b[0m\n",
      "\u001b[34m[18]#011train-rmse:659.34369\u001b[0m\n",
      "\u001b[34m[19]#011train-rmse:463.51306\u001b[0m\n",
      "\u001b[34m[20]#011train-rmse:325.83209\u001b[0m\n",
      "\u001b[34m[21]#011train-rmse:229.07513\u001b[0m\n",
      "\u001b[34m[22]#011train-rmse:161.05420\u001b[0m\n",
      "\u001b[34m[23]#011train-rmse:113.25121\u001b[0m\n",
      "\u001b[34m[24]#011train-rmse:79.63640\u001b[0m\n",
      "\u001b[34m[25]#011train-rmse:56.04671\u001b[0m\n",
      "\u001b[34m[26]#011train-rmse:39.50220\u001b[0m\n",
      "\u001b[34m[27]#011train-rmse:27.89581\u001b[0m\n",
      "\u001b[34m[28]#011train-rmse:19.80669\u001b[0m\n",
      "\u001b[34m[29]#011train-rmse:14.14181\u001b[0m\n",
      "\u001b[34m[30]#011train-rmse:10.22161\u001b[0m\n",
      "\u001b[34m[31]#011train-rmse:7.49313\u001b[0m\n",
      "\u001b[34m[32]#011train-rmse:5.63035\u001b[0m\n",
      "\u001b[34m[33]#011train-rmse:4.36319\u001b[0m\n",
      "\u001b[34m[34]#011train-rmse:3.53601\u001b[0m\n",
      "\u001b[34m[35]#011train-rmse:3.01677\u001b[0m\n",
      "\u001b[34m[36]#011train-rmse:2.70546\u001b[0m\n",
      "\u001b[34m[37]#011train-rmse:2.53008\u001b[0m\n",
      "\u001b[34m[38]#011train-rmse:2.42562\u001b[0m\n",
      "\u001b[34m[39]#011train-rmse:2.36617\u001b[0m\n",
      "\u001b[34m[40]#011train-rmse:2.33683\u001b[0m\n",
      "\u001b[34m[41]#011train-rmse:2.31984\u001b[0m\n",
      "\u001b[34m[42]#011train-rmse:2.30956\u001b[0m\n",
      "\u001b[34m[43]#011train-rmse:2.30441\u001b[0m\n",
      "\u001b[34m[44]#011train-rmse:2.30059\u001b[0m\n",
      "\u001b[34m[45]#011train-rmse:2.29813\u001b[0m\n",
      "\u001b[34m[46]#011train-rmse:2.29711\u001b[0m\n",
      "\u001b[34m[47]#011train-rmse:2.29623\u001b[0m\n",
      "\u001b[34m[48]#011train-rmse:2.29558\u001b[0m\n",
      "\u001b[34m[49]#011train-rmse:2.29538\u001b[0m\n",
      "\u001b[34m[50]#011train-rmse:2.29530\u001b[0m\n",
      "\u001b[34m[51]#011train-rmse:2.29504\u001b[0m\n",
      "\u001b[34m[52]#011train-rmse:2.29496\u001b[0m\n",
      "\u001b[34m[53]#011train-rmse:2.29491\u001b[0m\n",
      "\u001b[34m[54]#011train-rmse:2.29491\u001b[0m\n",
      "\u001b[34m[55]#011train-rmse:2.29491\u001b[0m\n",
      "\u001b[34m[56]#011train-rmse:2.29491\u001b[0m\n",
      "\u001b[34m[57]#011train-rmse:2.29491\u001b[0m\n",
      "\u001b[34m[58]#011train-rmse:2.29491\u001b[0m\n",
      "\u001b[34m[59]#011train-rmse:2.29491\u001b[0m\n",
      "\u001b[34m[60]#011train-rmse:2.29491\u001b[0m\n",
      "\u001b[34m[61]#011train-rmse:2.29491\u001b[0m\n",
      "\u001b[34m[62]#011train-rmse:2.29491\u001b[0m\n",
      "\u001b[34m[63]#011train-rmse:2.29491\u001b[0m\n",
      "\u001b[34m[64]#011train-rmse:2.29491\u001b[0m\n",
      "\u001b[34m[65]#011train-rmse:2.29491\u001b[0m\n",
      "\u001b[34m[66]#011train-rmse:2.29491\u001b[0m\n",
      "\u001b[34m[67]#011train-rmse:2.29491\u001b[0m\n",
      "\u001b[34m[68]#011train-rmse:2.29491\u001b[0m\n",
      "\u001b[34m[69]#011train-rmse:2.29491\u001b[0m\n",
      "\u001b[34m[70]#011train-rmse:2.29491\u001b[0m\n",
      "\u001b[34m[71]#011train-rmse:2.29491\u001b[0m\n",
      "\u001b[34m[72]#011train-rmse:2.29491\u001b[0m\n",
      "\u001b[34m[73]#011train-rmse:2.29491\u001b[0m\n",
      "\u001b[34m[74]#011train-rmse:2.29491\u001b[0m\n",
      "\u001b[34m[75]#011train-rmse:2.29491\u001b[0m\n",
      "\u001b[34m[76]#011train-rmse:2.29491\u001b[0m\n",
      "\u001b[34m[77]#011train-rmse:2.29491\u001b[0m\n",
      "\u001b[34m[78]#011train-rmse:2.29491\u001b[0m\n",
      "\u001b[34m[79]#011train-rmse:2.29491\u001b[0m\n",
      "\u001b[34m[80]#011train-rmse:2.29491\u001b[0m\n",
      "\u001b[34m[81]#011train-rmse:2.29491\u001b[0m\n",
      "\u001b[34m[82]#011train-rmse:2.29491\u001b[0m\n",
      "\u001b[34m[83]#011train-rmse:2.29491\u001b[0m\n",
      "\u001b[34m[84]#011train-rmse:2.29491\u001b[0m\n",
      "\u001b[34m[85]#011train-rmse:2.29491\u001b[0m\n",
      "\u001b[34m[86]#011train-rmse:2.29491\u001b[0m\n",
      "\u001b[34m[87]#011train-rmse:2.29491\u001b[0m\n",
      "\u001b[34m[88]#011train-rmse:2.29491\u001b[0m\n",
      "\u001b[34m[89]#011train-rmse:2.29491\u001b[0m\n",
      "\u001b[34m[90]#011train-rmse:2.29491\u001b[0m\n",
      "\u001b[34m[91]#011train-rmse:2.29491\u001b[0m\n",
      "\u001b[34m[92]#011train-rmse:2.29491\u001b[0m\n",
      "\u001b[34m[93]#011train-rmse:2.29491\u001b[0m\n",
      "\u001b[34m[94]#011train-rmse:2.29491\u001b[0m\n",
      "\u001b[34m[95]#011train-rmse:2.29491\u001b[0m\n",
      "\u001b[34m[96]#011train-rmse:2.29491\u001b[0m\n",
      "\u001b[34m[97]#011train-rmse:2.29491\u001b[0m\n",
      "\u001b[34m[98]#011train-rmse:2.29491\u001b[0m\n",
      "\u001b[34m[99]#011train-rmse:2.29491\u001b[0m\n",
      "\n",
      "2024-12-18 10:28:38 Uploading - Uploading generated training model\n",
      "2024-12-18 10:28:38 Completed - Training job completed\n",
      "Training seconds: 114\n",
      "Billable seconds: 114\n"
     ]
    }
   ],
   "source": [
    "import sagemaker\n",
    "from sagemaker import get_execution_role\n",
    "from sagemaker.inputs import TrainingInput\n",
    "from sagemaker.image_uris import retrieve\n",
    "\n",
    "# Setup SageMaker session and role\n",
    "sagemaker_session = sagemaker.Session()\n",
    "role = get_execution_role()\n",
    "\n",
    "# Specify your bucket and data location\n",
    "bucket = 'preprocessed-online-retail-dataset'\n",
    "data_location = f's3://{bucket}/Preprocessed_Online_Retail.csv'\n",
    "\n",
    "# Get the XGBoost image URI for the region\n",
    "container = retrieve('xgboost', boto3.Session().region_name, version='1.0-1')\n",
    "\n",
    "# Setup Estimator\n",
    "xgboost = sagemaker.estimator.Estimator(container,\n",
    "                                         role,\n",
    "                                         instance_count=1, \n",
    "                                         instance_type='ml.m4.xlarge',\n",
    "                                         output_path=f's3://{bucket}/output',\n",
    "                                         sagemaker_session=sagemaker_session)\n",
    "\n",
    "# Set hyperparameters\n",
    "xgboost.set_hyperparameters(objective='reg:linear',\n",
    "                            num_round=100)\n",
    "\n",
    "# Specify the input data configuration using the correct class\n",
    "s3_input_train = TrainingInput(s3_data=data_location, content_type='csv')\n",
    "\n",
    "# Start the training\n",
    "xgboost.fit({'train': s3_input_train})\n"
   ]
  },
  {
   "cell_type": "code",
   "execution_count": 9,
   "id": "56bfbfc7",
   "metadata": {},
   "outputs": [],
   "source": [
    "# Format the features as a CSV string for the payload\n",
    "payload = \"12345,10,20.5,67890\""
   ]
  },
  {
   "cell_type": "code",
   "execution_count": 12,
   "id": "bbb11f0d",
   "metadata": {},
   "outputs": [
    {
     "data": {
      "text/html": [
       "<pre style=\"white-space:pre;overflow-x:auto;line-height:normal;font-family:Menlo,'DejaVu Sans Mono',consolas,'Courier New',monospace\"><span style=\"color: #7fbfbf; text-decoration-color: #7fbfbf\">[12/18/24 10:53:00] </span><span style=\"color: #0069ff; text-decoration-color: #0069ff; font-weight: bold\">INFO    </span> Defaulting to only available Python version: py3                     <a href=\"file:///home/ec2-user/anaconda3/envs/python3/lib/python3.10/site-packages/sagemaker/image_uris.py\" target=\"_blank\"><span style=\"color: #7f7f7f; text-decoration-color: #7f7f7f\">image_uris.py</span></a><span style=\"color: #7f7f7f; text-decoration-color: #7f7f7f\">:</span><a href=\"file:///home/ec2-user/anaconda3/envs/python3/lib/python3.10/site-packages/sagemaker/image_uris.py#604\" target=\"_blank\"><span style=\"color: #7f7f7f; text-decoration-color: #7f7f7f\">604</span></a>\n",
       "</pre>\n"
      ],
      "text/plain": [
       "\u001b[2;36m[12/18/24 10:53:00]\u001b[0m\u001b[2;36m \u001b[0m\u001b[1;38;2;0;105;255mINFO    \u001b[0m Defaulting to only available Python version: py3                     \u001b]8;id=2734;file:///home/ec2-user/anaconda3/envs/python3/lib/python3.10/site-packages/sagemaker/image_uris.py\u001b\\\u001b[2mimage_uris.py\u001b[0m\u001b]8;;\u001b\\\u001b[2m:\u001b[0m\u001b]8;id=952213;file:///home/ec2-user/anaconda3/envs/python3/lib/python3.10/site-packages/sagemaker/image_uris.py#604\u001b\\\u001b[2m604\u001b[0m\u001b]8;;\u001b\\\n"
      ]
     },
     "metadata": {},
     "output_type": "display_data"
    },
    {
     "data": {
      "text/html": [
       "<pre style=\"white-space:pre;overflow-x:auto;line-height:normal;font-family:Menlo,'DejaVu Sans Mono',consolas,'Courier New',monospace\"><span style=\"color: #7fbfbf; text-decoration-color: #7fbfbf\">                    </span><span style=\"color: #0069ff; text-decoration-color: #0069ff; font-weight: bold\">INFO    </span> Defaulting to only supported image scope: cpu.                       <a href=\"file:///home/ec2-user/anaconda3/envs/python3/lib/python3.10/site-packages/sagemaker/image_uris.py\" target=\"_blank\"><span style=\"color: #7f7f7f; text-decoration-color: #7f7f7f\">image_uris.py</span></a><span style=\"color: #7f7f7f; text-decoration-color: #7f7f7f\">:</span><a href=\"file:///home/ec2-user/anaconda3/envs/python3/lib/python3.10/site-packages/sagemaker/image_uris.py#528\" target=\"_blank\"><span style=\"color: #7f7f7f; text-decoration-color: #7f7f7f\">528</span></a>\n",
       "</pre>\n"
      ],
      "text/plain": [
       "\u001b[2;36m                   \u001b[0m\u001b[2;36m \u001b[0m\u001b[1;38;2;0;105;255mINFO    \u001b[0m Defaulting to only supported image scope: cpu.                       \u001b]8;id=779656;file:///home/ec2-user/anaconda3/envs/python3/lib/python3.10/site-packages/sagemaker/image_uris.py\u001b\\\u001b[2mimage_uris.py\u001b[0m\u001b]8;;\u001b\\\u001b[2m:\u001b[0m\u001b]8;id=197465;file:///home/ec2-user/anaconda3/envs/python3/lib/python3.10/site-packages/sagemaker/image_uris.py#528\u001b\\\u001b[2m528\u001b[0m\u001b]8;;\u001b\\\n"
      ]
     },
     "metadata": {},
     "output_type": "display_data"
    },
    {
     "data": {
      "text/html": [
       "<pre style=\"white-space:pre;overflow-x:auto;line-height:normal;font-family:Menlo,'DejaVu Sans Mono',consolas,'Courier New',monospace\"><span style=\"color: #7fbfbf; text-decoration-color: #7fbfbf\">                    </span><span style=\"color: #0069ff; text-decoration-color: #0069ff; font-weight: bold\">INFO    </span> SageMaker Python SDK will collect telemetry to help us better  <a href=\"file:///home/ec2-user/anaconda3/envs/python3/lib/python3.10/site-packages/sagemaker/telemetry/telemetry_logging.py\" target=\"_blank\"><span style=\"color: #7f7f7f; text-decoration-color: #7f7f7f\">telemetry_logging.py</span></a><span style=\"color: #7f7f7f; text-decoration-color: #7f7f7f\">:</span><a href=\"file:///home/ec2-user/anaconda3/envs/python3/lib/python3.10/site-packages/sagemaker/telemetry/telemetry_logging.py#90\" target=\"_blank\"><span style=\"color: #7f7f7f; text-decoration-color: #7f7f7f\">90</span></a>\n",
       "<span style=\"color: #7fbfbf; text-decoration-color: #7fbfbf\">                    </span>         understand our user's needs, diagnose issues, and deliver      <span style=\"color: #7f7f7f; text-decoration-color: #7f7f7f\">                       </span>\n",
       "<span style=\"color: #7fbfbf; text-decoration-color: #7fbfbf\">                    </span>         additional features.                                           <span style=\"color: #7f7f7f; text-decoration-color: #7f7f7f\">                       </span>\n",
       "<span style=\"color: #7fbfbf; text-decoration-color: #7fbfbf\">                    </span>         To opt out of telemetry, please disable via TelemetryOptOut    <span style=\"color: #7f7f7f; text-decoration-color: #7f7f7f\">                       </span>\n",
       "<span style=\"color: #7fbfbf; text-decoration-color: #7fbfbf\">                    </span>         parameter in SDK defaults config. For more information, refer  <span style=\"color: #7f7f7f; text-decoration-color: #7f7f7f\">                       </span>\n",
       "<span style=\"color: #7fbfbf; text-decoration-color: #7fbfbf\">                    </span>         to                                                             <span style=\"color: #7f7f7f; text-decoration-color: #7f7f7f\">                       </span>\n",
       "<span style=\"color: #7fbfbf; text-decoration-color: #7fbfbf\">                    </span>         <span style=\"color: #0069ff; text-decoration-color: #0069ff; text-decoration: underline\">https://sagemaker.readthedocs.io/en/stable/overview.html#confi</span> <span style=\"color: #7f7f7f; text-decoration-color: #7f7f7f\">                       </span>\n",
       "<span style=\"color: #7fbfbf; text-decoration-color: #7fbfbf\">                    </span>         <span style=\"color: #0069ff; text-decoration-color: #0069ff; text-decoration: underline\">guring-and-using-defaults-with-the-sagemaker-python-sdk.</span>       <span style=\"color: #7f7f7f; text-decoration-color: #7f7f7f\">                       </span>\n",
       "</pre>\n"
      ],
      "text/plain": [
       "\u001b[2;36m                   \u001b[0m\u001b[2;36m \u001b[0m\u001b[1;38;2;0;105;255mINFO    \u001b[0m SageMaker Python SDK will collect telemetry to help us better  \u001b]8;id=489592;file:///home/ec2-user/anaconda3/envs/python3/lib/python3.10/site-packages/sagemaker/telemetry/telemetry_logging.py\u001b\\\u001b[2mtelemetry_logging.py\u001b[0m\u001b]8;;\u001b\\\u001b[2m:\u001b[0m\u001b]8;id=861885;file:///home/ec2-user/anaconda3/envs/python3/lib/python3.10/site-packages/sagemaker/telemetry/telemetry_logging.py#90\u001b\\\u001b[2m90\u001b[0m\u001b]8;;\u001b\\\n",
       "\u001b[2;36m                    \u001b[0m         understand our user's needs, diagnose issues, and deliver      \u001b[2m                       \u001b[0m\n",
       "\u001b[2;36m                    \u001b[0m         additional features.                                           \u001b[2m                       \u001b[0m\n",
       "\u001b[2;36m                    \u001b[0m         To opt out of telemetry, please disable via TelemetryOptOut    \u001b[2m                       \u001b[0m\n",
       "\u001b[2;36m                    \u001b[0m         parameter in SDK defaults config. For more information, refer  \u001b[2m                       \u001b[0m\n",
       "\u001b[2;36m                    \u001b[0m         to                                                             \u001b[2m                       \u001b[0m\n",
       "\u001b[2;36m                    \u001b[0m         \u001b[4;38;2;0;105;255mhttps://sagemaker.readthedocs.io/en/stable/overview.html#confi\u001b[0m \u001b[2m                       \u001b[0m\n",
       "\u001b[2;36m                    \u001b[0m         \u001b[4;38;2;0;105;255mguring-and-using-defaults-with-the-sagemaker-python-sdk.\u001b[0m       \u001b[2m                       \u001b[0m\n"
      ]
     },
     "metadata": {},
     "output_type": "display_data"
    },
    {
     "data": {
      "text/html": [
       "<pre style=\"white-space:pre;overflow-x:auto;line-height:normal;font-family:Menlo,'DejaVu Sans Mono',consolas,'Courier New',monospace\"><span style=\"color: #7fbfbf; text-decoration-color: #7fbfbf\">                    </span><span style=\"color: #0069ff; text-decoration-color: #0069ff; font-weight: bold\">INFO    </span> Creating training-job with name:                                       <a href=\"file:///home/ec2-user/anaconda3/envs/python3/lib/python3.10/site-packages/sagemaker/session.py\" target=\"_blank\"><span style=\"color: #7f7f7f; text-decoration-color: #7f7f7f\">session.py</span></a><span style=\"color: #7f7f7f; text-decoration-color: #7f7f7f\">:</span><a href=\"file:///home/ec2-user/anaconda3/envs/python3/lib/python3.10/site-packages/sagemaker/session.py#1042\" target=\"_blank\"><span style=\"color: #7f7f7f; text-decoration-color: #7f7f7f\">1042</span></a>\n",
       "<span style=\"color: #7fbfbf; text-decoration-color: #7fbfbf\">                    </span>         sagemaker-xgboost-<span style=\"color: #008080; text-decoration-color: #008080; font-weight: bold\">2024</span>-12-18-10-53-00-901                              <span style=\"color: #7f7f7f; text-decoration-color: #7f7f7f\">               </span>\n",
       "</pre>\n"
      ],
      "text/plain": [
       "\u001b[2;36m                   \u001b[0m\u001b[2;36m \u001b[0m\u001b[1;38;2;0;105;255mINFO    \u001b[0m Creating training-job with name:                                       \u001b]8;id=540576;file:///home/ec2-user/anaconda3/envs/python3/lib/python3.10/site-packages/sagemaker/session.py\u001b\\\u001b[2msession.py\u001b[0m\u001b]8;;\u001b\\\u001b[2m:\u001b[0m\u001b]8;id=38542;file:///home/ec2-user/anaconda3/envs/python3/lib/python3.10/site-packages/sagemaker/session.py#1042\u001b\\\u001b[2m1042\u001b[0m\u001b]8;;\u001b\\\n",
       "\u001b[2;36m                    \u001b[0m         sagemaker-xgboost-\u001b[1;36m2024\u001b[0m-12-18-10-53-00-901                              \u001b[2m               \u001b[0m\n"
      ]
     },
     "metadata": {},
     "output_type": "display_data"
    },
    {
     "name": "stdout",
     "output_type": "stream",
     "text": [
      "2024-12-18 10:53:04 Starting - Starting the training job...\n",
      "2024-12-18 10:53:19 Starting - Preparing the instances for training...\n",
      "2024-12-18 10:53:53 Downloading - Downloading input data...\n",
      "2024-12-18 10:54:28 Downloading - Downloading the training image......\n",
      "2024-12-18 10:55:34 Training - Training image download completed. Training in progress.\n",
      "2024-12-18 10:55:34 Uploading - Uploading generated training model\u001b[34m[2024-12-18 10:55:27.848 ip-10-0-174-182.ec2.internal:7 INFO utils.py:27] RULE_JOB_STOP_SIGNAL_FILENAME: None\u001b[0m\n",
      "\u001b[34mINFO:sagemaker-containers:Imported framework sagemaker_xgboost_container.training\u001b[0m\n",
      "\u001b[34mINFO:sagemaker-containers:Failed to parse hyperparameter objective value reg:linear to Json.\u001b[0m\n",
      "\u001b[34mReturning the value itself\u001b[0m\n",
      "\u001b[34mINFO:sagemaker-containers:No GPUs detected (normal if no gpus installed)\u001b[0m\n",
      "\u001b[34mINFO:sagemaker_xgboost_container.training:Running XGBoost Sagemaker in algorithm mode\u001b[0m\n",
      "\u001b[34mINFO:root:Determined delimiter of CSV input is ','\u001b[0m\n",
      "\u001b[34mINFO:root:Determined delimiter of CSV input is ','\u001b[0m\n",
      "\u001b[34mINFO:root:Single node training.\u001b[0m\n",
      "\u001b[34m[10:55:27] 101x11 matrix with 1111 entries loaded from /opt/ml/input/data/train?format=csv&label_column=0&delimiter=,\u001b[0m\n",
      "\u001b[34m[2024-12-18 10:55:27.918 ip-10-0-174-182.ec2.internal:7 INFO json_config.py:91] Creating hook from json_config at /opt/ml/input/config/debughookconfig.json.\u001b[0m\n",
      "\u001b[34m[2024-12-18 10:55:27.919 ip-10-0-174-182.ec2.internal:7 INFO hook.py:201] tensorboard_dir has not been set for the hook. SMDebug will not be exporting tensorboard summaries.\u001b[0m\n",
      "\u001b[34m[2024-12-18 10:55:27.919 ip-10-0-174-182.ec2.internal:7 INFO profiler_config_parser.py:102] User has disabled profiler.\u001b[0m\n",
      "\u001b[34m[2024-12-18 10:55:27.920 ip-10-0-174-182.ec2.internal:7 INFO hook.py:255] Saving to /opt/ml/output/tensors\u001b[0m\n",
      "\u001b[34m[2024-12-18 10:55:27.920 ip-10-0-174-182.ec2.internal:7 INFO state_store.py:77] The checkpoint config file /opt/ml/input/config/checkpointconfig.json does not exist.\u001b[0m\n",
      "\u001b[34mINFO:root:Debug hook created from config\u001b[0m\n",
      "\u001b[34mINFO:root:Train matrix has 101 rows\u001b[0m\n",
      "\u001b[34m[10:55:27] WARNING: /workspace/src/objective/regression_obj.cu:167: reg:linear is now deprecated in favor of reg:squarederror.\u001b[0m\n",
      "\u001b[34m[10:55:27] WARNING: /workspace/src/learner.cc:328: \u001b[0m\n",
      "\u001b[34mParameters: { num_round } might not be used.\n",
      "  This may not be accurate due to some parameters are only used in language bindings but\n",
      "  passed down to XGBoost core.  Or some parameters are not used but slip through this\n",
      "  verification. Please open an issue if you find above cases.\u001b[0m\n",
      "\u001b[34m[0]#011train-rmse:375181.87500\u001b[0m\n",
      "\u001b[34m[2024-12-18 10:55:27.923 ip-10-0-174-182.ec2.internal:7 INFO hook.py:423] Monitoring the collections: metrics\u001b[0m\n",
      "\u001b[34m[2024-12-18 10:55:27.926 ip-10-0-174-182.ec2.internal:7 INFO hook.py:486] Hook is writing from the hook with pid: 7\u001b[0m\n",
      "\u001b[34m[1]#011train-rmse:263741.75000\u001b[0m\n",
      "\u001b[34m[2]#011train-rmse:185402.59375\u001b[0m\n",
      "\u001b[34m[3]#011train-rmse:130332.53125\u001b[0m\n",
      "\u001b[34m[4]#011train-rmse:91619.88281\u001b[0m\n",
      "\u001b[34m[5]#011train-rmse:64406.04688\u001b[0m\n",
      "\u001b[34m[6]#011train-rmse:45275.52344\u001b[0m\n",
      "\u001b[34m[7]#011train-rmse:31827.34570\u001b[0m\n",
      "\u001b[34m[8]#011train-rmse:22373.68555\u001b[0m\n",
      "\u001b[34m[9]#011train-rmse:15728.05176\u001b[0m\n",
      "\u001b[34m[10]#011train-rmse:11056.35156\u001b[0m\n",
      "\u001b[34m[11]#011train-rmse:7772.29443\u001b[0m\n",
      "\u001b[34m[12]#011train-rmse:5463.68359\u001b[0m\n",
      "\u001b[34m[13]#011train-rmse:3840.77832\u001b[0m\n",
      "\u001b[34m[14]#011train-rmse:2699.96899\u001b[0m\n",
      "\u001b[34m[15]#011train-rmse:1897.97046\u001b[0m\n",
      "\u001b[34m[16]#011train-rmse:1334.22144\u001b[0m\n",
      "\u001b[34m[17]#011train-rmse:937.95056\u001b[0m\n",
      "\u001b[34m[18]#011train-rmse:659.34369\u001b[0m\n",
      "\u001b[34m[19]#011train-rmse:463.51306\u001b[0m\n",
      "\u001b[34m[20]#011train-rmse:325.83209\u001b[0m\n",
      "\u001b[34m[21]#011train-rmse:229.07513\u001b[0m\n",
      "\u001b[34m[22]#011train-rmse:161.05420\u001b[0m\n",
      "\u001b[34m[23]#011train-rmse:113.25121\u001b[0m\n",
      "\u001b[34m[24]#011train-rmse:79.63640\u001b[0m\n",
      "\u001b[34m[25]#011train-rmse:56.04671\u001b[0m\n",
      "\u001b[34m[26]#011train-rmse:39.50220\u001b[0m\n",
      "\u001b[34m[27]#011train-rmse:27.89581\u001b[0m\n",
      "\u001b[34m[28]#011train-rmse:19.80669\u001b[0m\n",
      "\u001b[34m[29]#011train-rmse:14.14181\u001b[0m\n",
      "\u001b[34m[30]#011train-rmse:10.22161\u001b[0m\n",
      "\u001b[34m[31]#011train-rmse:7.49313\u001b[0m\n",
      "\u001b[34m[32]#011train-rmse:5.63035\u001b[0m\n",
      "\u001b[34m[33]#011train-rmse:4.36319\u001b[0m\n",
      "\u001b[34m[34]#011train-rmse:3.53601\u001b[0m\n",
      "\u001b[34m[35]#011train-rmse:3.01677\u001b[0m\n",
      "\u001b[34m[36]#011train-rmse:2.70546\u001b[0m\n",
      "\u001b[34m[37]#011train-rmse:2.53008\u001b[0m\n",
      "\u001b[34m[38]#011train-rmse:2.42562\u001b[0m\n",
      "\u001b[34m[39]#011train-rmse:2.36617\u001b[0m\n",
      "\u001b[34m[40]#011train-rmse:2.33683\u001b[0m\n",
      "\u001b[34m[41]#011train-rmse:2.31984\u001b[0m\n",
      "\u001b[34m[42]#011train-rmse:2.30956\u001b[0m\n",
      "\u001b[34m[43]#011train-rmse:2.30441\u001b[0m\n",
      "\u001b[34m[44]#011train-rmse:2.30059\u001b[0m\n",
      "\u001b[34m[45]#011train-rmse:2.29813\u001b[0m\n",
      "\u001b[34m[46]#011train-rmse:2.29711\u001b[0m\n",
      "\u001b[34m[47]#011train-rmse:2.29623\u001b[0m\n",
      "\u001b[34m[48]#011train-rmse:2.29558\u001b[0m\n",
      "\u001b[34m[49]#011train-rmse:2.29538\u001b[0m\n",
      "\u001b[34m[50]#011train-rmse:2.29530\u001b[0m\n",
      "\u001b[34m[51]#011train-rmse:2.29504\u001b[0m\n",
      "\u001b[34m[52]#011train-rmse:2.29496\u001b[0m\n",
      "\u001b[34m[53]#011train-rmse:2.29491\u001b[0m\n",
      "\u001b[34m[54]#011train-rmse:2.29491\u001b[0m\n",
      "\u001b[34m[55]#011train-rmse:2.29491\u001b[0m\n",
      "\u001b[34m[56]#011train-rmse:2.29491\u001b[0m\n",
      "\u001b[34m[57]#011train-rmse:2.29491\u001b[0m\n",
      "\u001b[34m[58]#011train-rmse:2.29491\u001b[0m\n",
      "\u001b[34m[59]#011train-rmse:2.29491\u001b[0m\n",
      "\u001b[34m[60]#011train-rmse:2.29491\u001b[0m\n",
      "\u001b[34m[61]#011train-rmse:2.29491\u001b[0m\n",
      "\u001b[34m[62]#011train-rmse:2.29491\u001b[0m\n",
      "\u001b[34m[63]#011train-rmse:2.29491\u001b[0m\n",
      "\u001b[34m[64]#011train-rmse:2.29491\u001b[0m\n",
      "\u001b[34m[65]#011train-rmse:2.29491\u001b[0m\n",
      "\u001b[34m[66]#011train-rmse:2.29491\u001b[0m\n",
      "\u001b[34m[67]#011train-rmse:2.29491\u001b[0m\n",
      "\u001b[34m[68]#011train-rmse:2.29491\u001b[0m\n",
      "\u001b[34m[69]#011train-rmse:2.29491\u001b[0m\n",
      "\u001b[34m[70]#011train-rmse:2.29491\u001b[0m\n",
      "\u001b[34m[71]#011train-rmse:2.29491\u001b[0m\n",
      "\u001b[34m[72]#011train-rmse:2.29491\u001b[0m\n",
      "\u001b[34m[73]#011train-rmse:2.29491\u001b[0m\n",
      "\u001b[34m[74]#011train-rmse:2.29491\u001b[0m\n",
      "\u001b[34m[75]#011train-rmse:2.29491\u001b[0m\n",
      "\u001b[34m[76]#011train-rmse:2.29491\u001b[0m\n",
      "\u001b[34m[77]#011train-rmse:2.29491\u001b[0m\n",
      "\u001b[34m[78]#011train-rmse:2.29491\u001b[0m\n",
      "\u001b[34m[79]#011train-rmse:2.29491\u001b[0m\n",
      "\u001b[34m[80]#011train-rmse:2.29491\u001b[0m\n",
      "\u001b[34m[81]#011train-rmse:2.29491\u001b[0m\n",
      "\u001b[34m[82]#011train-rmse:2.29491\u001b[0m\n",
      "\u001b[34m[83]#011train-rmse:2.29491\u001b[0m\n",
      "\u001b[34m[84]#011train-rmse:2.29491\u001b[0m\n",
      "\u001b[34m[85]#011train-rmse:2.29491\u001b[0m\n",
      "\u001b[34m[86]#011train-rmse:2.29491\u001b[0m\n",
      "\u001b[34m[87]#011train-rmse:2.29491\u001b[0m\n",
      "\u001b[34m[88]#011train-rmse:2.29491\u001b[0m\n",
      "\u001b[34m[89]#011train-rmse:2.29491\u001b[0m\n",
      "\u001b[34m[90]#011train-rmse:2.29491\u001b[0m\n",
      "\u001b[34m[91]#011train-rmse:2.29491\u001b[0m\n",
      "\u001b[34m[92]#011train-rmse:2.29491\u001b[0m\n",
      "\u001b[34m[93]#011train-rmse:2.29491\u001b[0m\n",
      "\u001b[34m[94]#011train-rmse:2.29491\u001b[0m\n",
      "\u001b[34m[95]#011train-rmse:2.29491\u001b[0m\n",
      "\u001b[34m[96]#011train-rmse:2.29491\u001b[0m\n",
      "\u001b[34m[97]#011train-rmse:2.29491\u001b[0m\n",
      "\u001b[34m[98]#011train-rmse:2.29491\u001b[0m\n",
      "\u001b[34m[99]#011train-rmse:2.29491\u001b[0m\n",
      "\n",
      "2024-12-18 10:55:47 Completed - Training job completed\n",
      "Training seconds: 115\n",
      "Billable seconds: 115\n"
     ]
    }
   ],
   "source": [
    "import sagemaker\n",
    "from sagemaker import get_execution_role\n",
    "from sagemaker.inputs import TrainingInput\n",
    "from sagemaker.image_uris import retrieve\n",
    "\n",
    "# Setup SageMaker session and role\n",
    "sagemaker_session = sagemaker.Session()\n",
    "role = get_execution_role()\n",
    "\n",
    "# Specify your bucket and data location\n",
    "bucket = 'preprocessed-online-retail-dataset'\n",
    "data_location = f's3://{bucket}/Preprocessed_Online_Retail.csv'\n",
    "\n",
    "# Get the XGBoost image URI for the region\n",
    "container = retrieve('xgboost', boto3.Session().region_name, version='1.0-1')\n",
    "\n",
    "# Setup Estimator for training\n",
    "xgboost = sagemaker.estimator.Estimator(\n",
    "    container,\n",
    "    role,\n",
    "    instance_count=1,\n",
    "    instance_type='ml.m4.xlarge',\n",
    "    output_path=f's3://{bucket}/output',\n",
    "    sagemaker_session=sagemaker_session\n",
    ")\n",
    "\n",
    "# Set hyperparameters\n",
    "xgboost.set_hyperparameters(objective='reg:linear', num_round=100)\n",
    "\n",
    "# Specify the input data configuration\n",
    "s3_input_train = TrainingInput(s3_data=data_location, content_type='csv')\n",
    "\n",
    "# Start training\n",
    "xgboost.fit({'train': s3_input_train})"
   ]
  },
  {
   "cell_type": "code",
   "execution_count": 14,
   "id": "70d86a8a",
   "metadata": {},
   "outputs": [
    {
     "data": {
      "text/html": [
       "<pre style=\"white-space:pre;overflow-x:auto;line-height:normal;font-family:Menlo,'DejaVu Sans Mono',consolas,'Courier New',monospace\"><span style=\"color: #7fbfbf; text-decoration-color: #7fbfbf\">[12/18/24 10:59:40] </span><span style=\"color: #0069ff; text-decoration-color: #0069ff; font-weight: bold\">INFO    </span> Defaulting to only available Python version: py3                     <a href=\"file:///home/ec2-user/anaconda3/envs/python3/lib/python3.10/site-packages/sagemaker/image_uris.py\" target=\"_blank\"><span style=\"color: #7f7f7f; text-decoration-color: #7f7f7f\">image_uris.py</span></a><span style=\"color: #7f7f7f; text-decoration-color: #7f7f7f\">:</span><a href=\"file:///home/ec2-user/anaconda3/envs/python3/lib/python3.10/site-packages/sagemaker/image_uris.py#604\" target=\"_blank\"><span style=\"color: #7f7f7f; text-decoration-color: #7f7f7f\">604</span></a>\n",
       "</pre>\n"
      ],
      "text/plain": [
       "\u001b[2;36m[12/18/24 10:59:40]\u001b[0m\u001b[2;36m \u001b[0m\u001b[1;38;2;0;105;255mINFO    \u001b[0m Defaulting to only available Python version: py3                     \u001b]8;id=764393;file:///home/ec2-user/anaconda3/envs/python3/lib/python3.10/site-packages/sagemaker/image_uris.py\u001b\\\u001b[2mimage_uris.py\u001b[0m\u001b]8;;\u001b\\\u001b[2m:\u001b[0m\u001b]8;id=824210;file:///home/ec2-user/anaconda3/envs/python3/lib/python3.10/site-packages/sagemaker/image_uris.py#604\u001b\\\u001b[2m604\u001b[0m\u001b]8;;\u001b\\\n"
      ]
     },
     "metadata": {},
     "output_type": "display_data"
    },
    {
     "data": {
      "text/html": [
       "<pre style=\"white-space:pre;overflow-x:auto;line-height:normal;font-family:Menlo,'DejaVu Sans Mono',consolas,'Courier New',monospace\"><span style=\"color: #7fbfbf; text-decoration-color: #7fbfbf\">                    </span><span style=\"color: #0069ff; text-decoration-color: #0069ff; font-weight: bold\">INFO    </span> Defaulting to only supported image scope: cpu.                       <a href=\"file:///home/ec2-user/anaconda3/envs/python3/lib/python3.10/site-packages/sagemaker/image_uris.py\" target=\"_blank\"><span style=\"color: #7f7f7f; text-decoration-color: #7f7f7f\">image_uris.py</span></a><span style=\"color: #7f7f7f; text-decoration-color: #7f7f7f\">:</span><a href=\"file:///home/ec2-user/anaconda3/envs/python3/lib/python3.10/site-packages/sagemaker/image_uris.py#528\" target=\"_blank\"><span style=\"color: #7f7f7f; text-decoration-color: #7f7f7f\">528</span></a>\n",
       "</pre>\n"
      ],
      "text/plain": [
       "\u001b[2;36m                   \u001b[0m\u001b[2;36m \u001b[0m\u001b[1;38;2;0;105;255mINFO    \u001b[0m Defaulting to only supported image scope: cpu.                       \u001b]8;id=74038;file:///home/ec2-user/anaconda3/envs/python3/lib/python3.10/site-packages/sagemaker/image_uris.py\u001b\\\u001b[2mimage_uris.py\u001b[0m\u001b]8;;\u001b\\\u001b[2m:\u001b[0m\u001b]8;id=525703;file:///home/ec2-user/anaconda3/envs/python3/lib/python3.10/site-packages/sagemaker/image_uris.py#528\u001b\\\u001b[2m528\u001b[0m\u001b]8;;\u001b\\\n"
      ]
     },
     "metadata": {},
     "output_type": "display_data"
    },
    {
     "data": {
      "text/html": [
       "<pre style=\"white-space:pre;overflow-x:auto;line-height:normal;font-family:Menlo,'DejaVu Sans Mono',consolas,'Courier New',monospace\"><span style=\"color: #7fbfbf; text-decoration-color: #7fbfbf\">                    </span><span style=\"color: #0069ff; text-decoration-color: #0069ff; font-weight: bold\">INFO    </span> SageMaker Python SDK will collect telemetry to help us better  <a href=\"file:///home/ec2-user/anaconda3/envs/python3/lib/python3.10/site-packages/sagemaker/telemetry/telemetry_logging.py\" target=\"_blank\"><span style=\"color: #7f7f7f; text-decoration-color: #7f7f7f\">telemetry_logging.py</span></a><span style=\"color: #7f7f7f; text-decoration-color: #7f7f7f\">:</span><a href=\"file:///home/ec2-user/anaconda3/envs/python3/lib/python3.10/site-packages/sagemaker/telemetry/telemetry_logging.py#90\" target=\"_blank\"><span style=\"color: #7f7f7f; text-decoration-color: #7f7f7f\">90</span></a>\n",
       "<span style=\"color: #7fbfbf; text-decoration-color: #7fbfbf\">                    </span>         understand our user's needs, diagnose issues, and deliver      <span style=\"color: #7f7f7f; text-decoration-color: #7f7f7f\">                       </span>\n",
       "<span style=\"color: #7fbfbf; text-decoration-color: #7fbfbf\">                    </span>         additional features.                                           <span style=\"color: #7f7f7f; text-decoration-color: #7f7f7f\">                       </span>\n",
       "<span style=\"color: #7fbfbf; text-decoration-color: #7fbfbf\">                    </span>         To opt out of telemetry, please disable via TelemetryOptOut    <span style=\"color: #7f7f7f; text-decoration-color: #7f7f7f\">                       </span>\n",
       "<span style=\"color: #7fbfbf; text-decoration-color: #7fbfbf\">                    </span>         parameter in SDK defaults config. For more information, refer  <span style=\"color: #7f7f7f; text-decoration-color: #7f7f7f\">                       </span>\n",
       "<span style=\"color: #7fbfbf; text-decoration-color: #7fbfbf\">                    </span>         to                                                             <span style=\"color: #7f7f7f; text-decoration-color: #7f7f7f\">                       </span>\n",
       "<span style=\"color: #7fbfbf; text-decoration-color: #7fbfbf\">                    </span>         <span style=\"color: #0069ff; text-decoration-color: #0069ff; text-decoration: underline\">https://sagemaker.readthedocs.io/en/stable/overview.html#confi</span> <span style=\"color: #7f7f7f; text-decoration-color: #7f7f7f\">                       </span>\n",
       "<span style=\"color: #7fbfbf; text-decoration-color: #7fbfbf\">                    </span>         <span style=\"color: #0069ff; text-decoration-color: #0069ff; text-decoration: underline\">guring-and-using-defaults-with-the-sagemaker-python-sdk.</span>       <span style=\"color: #7f7f7f; text-decoration-color: #7f7f7f\">                       </span>\n",
       "</pre>\n"
      ],
      "text/plain": [
       "\u001b[2;36m                   \u001b[0m\u001b[2;36m \u001b[0m\u001b[1;38;2;0;105;255mINFO    \u001b[0m SageMaker Python SDK will collect telemetry to help us better  \u001b]8;id=253587;file:///home/ec2-user/anaconda3/envs/python3/lib/python3.10/site-packages/sagemaker/telemetry/telemetry_logging.py\u001b\\\u001b[2mtelemetry_logging.py\u001b[0m\u001b]8;;\u001b\\\u001b[2m:\u001b[0m\u001b]8;id=556922;file:///home/ec2-user/anaconda3/envs/python3/lib/python3.10/site-packages/sagemaker/telemetry/telemetry_logging.py#90\u001b\\\u001b[2m90\u001b[0m\u001b]8;;\u001b\\\n",
       "\u001b[2;36m                    \u001b[0m         understand our user's needs, diagnose issues, and deliver      \u001b[2m                       \u001b[0m\n",
       "\u001b[2;36m                    \u001b[0m         additional features.                                           \u001b[2m                       \u001b[0m\n",
       "\u001b[2;36m                    \u001b[0m         To opt out of telemetry, please disable via TelemetryOptOut    \u001b[2m                       \u001b[0m\n",
       "\u001b[2;36m                    \u001b[0m         parameter in SDK defaults config. For more information, refer  \u001b[2m                       \u001b[0m\n",
       "\u001b[2;36m                    \u001b[0m         to                                                             \u001b[2m                       \u001b[0m\n",
       "\u001b[2;36m                    \u001b[0m         \u001b[4;38;2;0;105;255mhttps://sagemaker.readthedocs.io/en/stable/overview.html#confi\u001b[0m \u001b[2m                       \u001b[0m\n",
       "\u001b[2;36m                    \u001b[0m         \u001b[4;38;2;0;105;255mguring-and-using-defaults-with-the-sagemaker-python-sdk.\u001b[0m       \u001b[2m                       \u001b[0m\n"
      ]
     },
     "metadata": {},
     "output_type": "display_data"
    },
    {
     "data": {
      "text/html": [
       "<pre style=\"white-space:pre;overflow-x:auto;line-height:normal;font-family:Menlo,'DejaVu Sans Mono',consolas,'Courier New',monospace\"><span style=\"color: #7fbfbf; text-decoration-color: #7fbfbf\">                    </span><span style=\"color: #0069ff; text-decoration-color: #0069ff; font-weight: bold\">INFO    </span> Creating training-job with name:                                       <a href=\"file:///home/ec2-user/anaconda3/envs/python3/lib/python3.10/site-packages/sagemaker/session.py\" target=\"_blank\"><span style=\"color: #7f7f7f; text-decoration-color: #7f7f7f\">session.py</span></a><span style=\"color: #7f7f7f; text-decoration-color: #7f7f7f\">:</span><a href=\"file:///home/ec2-user/anaconda3/envs/python3/lib/python3.10/site-packages/sagemaker/session.py#1042\" target=\"_blank\"><span style=\"color: #7f7f7f; text-decoration-color: #7f7f7f\">1042</span></a>\n",
       "<span style=\"color: #7fbfbf; text-decoration-color: #7fbfbf\">                    </span>         sagemaker-xgboost-<span style=\"color: #008080; text-decoration-color: #008080; font-weight: bold\">2024</span>-12-18-10-59-40-202                              <span style=\"color: #7f7f7f; text-decoration-color: #7f7f7f\">               </span>\n",
       "</pre>\n"
      ],
      "text/plain": [
       "\u001b[2;36m                   \u001b[0m\u001b[2;36m \u001b[0m\u001b[1;38;2;0;105;255mINFO    \u001b[0m Creating training-job with name:                                       \u001b]8;id=254578;file:///home/ec2-user/anaconda3/envs/python3/lib/python3.10/site-packages/sagemaker/session.py\u001b\\\u001b[2msession.py\u001b[0m\u001b]8;;\u001b\\\u001b[2m:\u001b[0m\u001b]8;id=557970;file:///home/ec2-user/anaconda3/envs/python3/lib/python3.10/site-packages/sagemaker/session.py#1042\u001b\\\u001b[2m1042\u001b[0m\u001b]8;;\u001b\\\n",
       "\u001b[2;36m                    \u001b[0m         sagemaker-xgboost-\u001b[1;36m2024\u001b[0m-12-18-10-59-40-202                              \u001b[2m               \u001b[0m\n"
      ]
     },
     "metadata": {},
     "output_type": "display_data"
    },
    {
     "name": "stdout",
     "output_type": "stream",
     "text": [
      "2024-12-18 10:59:40 Starting - Starting the training job...\n",
      "2024-12-18 11:00:02 Starting - Preparing the instances for training...\n",
      "2024-12-18 11:00:45 Downloading - Downloading input data......\n",
      "2024-12-18 11:01:21 Downloading - Downloading the training image...\n",
      "2024-12-18 11:02:06 Training - Training image download completed. Training in progress...\u001b[34m[2024-12-18 11:02:22.237 ip-10-0-219-188.ec2.internal:7 INFO utils.py:27] RULE_JOB_STOP_SIGNAL_FILENAME: None\u001b[0m\n",
      "\u001b[34mINFO:sagemaker-containers:Imported framework sagemaker_xgboost_container.training\u001b[0m\n",
      "\u001b[34mINFO:sagemaker-containers:Failed to parse hyperparameter objective value reg:linear to Json.\u001b[0m\n",
      "\u001b[34mReturning the value itself\u001b[0m\n",
      "\u001b[34mINFO:sagemaker-containers:No GPUs detected (normal if no gpus installed)\u001b[0m\n",
      "\u001b[34mINFO:sagemaker_xgboost_container.training:Running XGBoost Sagemaker in algorithm mode\u001b[0m\n",
      "\u001b[34mINFO:root:Determined delimiter of CSV input is ','\u001b[0m\n",
      "\u001b[34mINFO:root:Determined delimiter of CSV input is ','\u001b[0m\n",
      "\u001b[34mINFO:root:Single node training.\u001b[0m\n",
      "\u001b[34m[11:02:22] 101x11 matrix with 1111 entries loaded from /opt/ml/input/data/train?format=csv&label_column=0&delimiter=,\u001b[0m\n",
      "\u001b[34m[2024-12-18 11:02:22.306 ip-10-0-219-188.ec2.internal:7 INFO json_config.py:91] Creating hook from json_config at /opt/ml/input/config/debughookconfig.json.\u001b[0m\n",
      "\u001b[34m[2024-12-18 11:02:22.306 ip-10-0-219-188.ec2.internal:7 INFO hook.py:201] tensorboard_dir has not been set for the hook. SMDebug will not be exporting tensorboard summaries.\u001b[0m\n",
      "\u001b[34m[2024-12-18 11:02:22.307 ip-10-0-219-188.ec2.internal:7 INFO profiler_config_parser.py:102] User has disabled profiler.\u001b[0m\n",
      "\u001b[34m[2024-12-18 11:02:22.307 ip-10-0-219-188.ec2.internal:7 INFO hook.py:255] Saving to /opt/ml/output/tensors\u001b[0m\n",
      "\u001b[34m[2024-12-18 11:02:22.307 ip-10-0-219-188.ec2.internal:7 INFO state_store.py:77] The checkpoint config file /opt/ml/input/config/checkpointconfig.json does not exist.\u001b[0m\n",
      "\u001b[34mINFO:root:Debug hook created from config\u001b[0m\n",
      "\u001b[34mINFO:root:Train matrix has 101 rows\u001b[0m\n",
      "\u001b[34m[11:02:22] WARNING: /workspace/src/objective/regression_obj.cu:167: reg:linear is now deprecated in favor of reg:squarederror.\u001b[0m\n",
      "\u001b[34m[11:02:22] WARNING: /workspace/src/learner.cc:328: \u001b[0m\n",
      "\u001b[34mParameters: { num_round } might not be used.\n",
      "  This may not be accurate due to some parameters are only used in language bindings but\n",
      "  passed down to XGBoost core.  Or some parameters are not used but slip through this\n",
      "  verification. Please open an issue if you find above cases.\u001b[0m\n",
      "\u001b[34m[0]#011train-rmse:375181.87500\u001b[0m\n",
      "\u001b[34m[2024-12-18 11:02:22.415 ip-10-0-219-188.ec2.internal:7 INFO hook.py:423] Monitoring the collections: metrics\u001b[0m\n",
      "\u001b[34m[2024-12-18 11:02:22.419 ip-10-0-219-188.ec2.internal:7 INFO hook.py:486] Hook is writing from the hook with pid: 7\u001b[0m\n",
      "\u001b[34m[1]#011train-rmse:263741.71875\u001b[0m\n",
      "\u001b[34m[2]#011train-rmse:185402.59375\u001b[0m\n",
      "\u001b[34m[3]#011train-rmse:130332.53125\u001b[0m\n",
      "\u001b[34m[4]#011train-rmse:91619.88281\u001b[0m\n",
      "\u001b[34m[5]#011train-rmse:64406.04688\u001b[0m\n",
      "\u001b[34m[6]#011train-rmse:45275.52344\u001b[0m\n",
      "\u001b[34m[7]#011train-rmse:31827.34570\u001b[0m\n",
      "\u001b[34m[8]#011train-rmse:22373.68555\u001b[0m\n",
      "\u001b[34m[9]#011train-rmse:15728.04981\u001b[0m\n",
      "\u001b[34m[10]#011train-rmse:11056.35156\u001b[0m\n",
      "\u001b[34m[11]#011train-rmse:7772.29443\u001b[0m\n",
      "\u001b[34m[12]#011train-rmse:5463.68359\u001b[0m\n",
      "\u001b[34m[13]#011train-rmse:3840.77832\u001b[0m\n",
      "\u001b[34m[14]#011train-rmse:2699.96899\u001b[0m\n",
      "\u001b[34m[15]#011train-rmse:1897.97046\u001b[0m\n",
      "\u001b[34m[16]#011train-rmse:1334.22144\u001b[0m\n",
      "\u001b[34m[17]#011train-rmse:937.95056\u001b[0m\n",
      "\u001b[34m[18]#011train-rmse:659.34369\u001b[0m\n",
      "\u001b[34m[19]#011train-rmse:463.51306\u001b[0m\n",
      "\u001b[34m[20]#011train-rmse:325.83209\u001b[0m\n",
      "\u001b[34m[21]#011train-rmse:229.07513\u001b[0m\n",
      "\u001b[34m[22]#011train-rmse:161.05420\u001b[0m\n",
      "\u001b[34m[23]#011train-rmse:113.25121\u001b[0m\n",
      "\u001b[34m[24]#011train-rmse:79.63640\u001b[0m\n",
      "\u001b[34m[25]#011train-rmse:56.04671\u001b[0m\n",
      "\u001b[34m[26]#011train-rmse:39.50220\u001b[0m\n",
      "\u001b[34m[27]#011train-rmse:27.89581\u001b[0m\n",
      "\u001b[34m[28]#011train-rmse:19.80669\u001b[0m\n",
      "\u001b[34m[29]#011train-rmse:14.14181\u001b[0m\n",
      "\u001b[34m[30]#011train-rmse:10.22161\u001b[0m\n",
      "\u001b[34m[31]#011train-rmse:7.49313\u001b[0m\n",
      "\u001b[34m[32]#011train-rmse:5.63035\u001b[0m\n",
      "\u001b[34m[33]#011train-rmse:4.36319\u001b[0m\n",
      "\u001b[34m[34]#011train-rmse:3.53601\u001b[0m\n",
      "\u001b[34m[35]#011train-rmse:3.01677\u001b[0m\n",
      "\u001b[34m[36]#011train-rmse:2.70546\u001b[0m\n",
      "\u001b[34m[37]#011train-rmse:2.53008\u001b[0m\n",
      "\u001b[34m[38]#011train-rmse:2.42562\u001b[0m\n",
      "\u001b[34m[39]#011train-rmse:2.36617\u001b[0m\n",
      "\u001b[34m[40]#011train-rmse:2.33683\u001b[0m\n",
      "\u001b[34m[41]#011train-rmse:2.31984\u001b[0m\n",
      "\u001b[34m[42]#011train-rmse:2.30956\u001b[0m\n",
      "\u001b[34m[43]#011train-rmse:2.30441\u001b[0m\n",
      "\u001b[34m[44]#011train-rmse:2.30059\u001b[0m\n",
      "\u001b[34m[45]#011train-rmse:2.29813\u001b[0m\n",
      "\u001b[34m[46]#011train-rmse:2.29711\u001b[0m\n",
      "\u001b[34m[47]#011train-rmse:2.29623\u001b[0m\n",
      "\u001b[34m[48]#011train-rmse:2.29558\u001b[0m\n",
      "\u001b[34m[49]#011train-rmse:2.29538\u001b[0m\n",
      "\u001b[34m[50]#011train-rmse:2.29530\u001b[0m\n",
      "\u001b[34m[51]#011train-rmse:2.29504\u001b[0m\n",
      "\u001b[34m[52]#011train-rmse:2.29496\u001b[0m\n",
      "\u001b[34m[53]#011train-rmse:2.29491\u001b[0m\n",
      "\u001b[34m[54]#011train-rmse:2.29491\u001b[0m\n",
      "\u001b[34m[55]#011train-rmse:2.29491\u001b[0m\n",
      "\u001b[34m[56]#011train-rmse:2.29491\u001b[0m\n",
      "\u001b[34m[57]#011train-rmse:2.29491\u001b[0m\n",
      "\u001b[34m[58]#011train-rmse:2.29491\u001b[0m\n",
      "\u001b[34m[59]#011train-rmse:2.29491\u001b[0m\n",
      "\u001b[34m[60]#011train-rmse:2.29491\u001b[0m\n",
      "\u001b[34m[61]#011train-rmse:2.29491\u001b[0m\n",
      "\u001b[34m[62]#011train-rmse:2.29491\u001b[0m\n",
      "\u001b[34m[63]#011train-rmse:2.29491\u001b[0m\n",
      "\u001b[34m[64]#011train-rmse:2.29491\u001b[0m\n",
      "\u001b[34m[65]#011train-rmse:2.29491\u001b[0m\n",
      "\u001b[34m[66]#011train-rmse:2.29491\u001b[0m\n",
      "\u001b[34m[67]#011train-rmse:2.29491\u001b[0m\n",
      "\u001b[34m[68]#011train-rmse:2.29491\u001b[0m\n",
      "\u001b[34m[69]#011train-rmse:2.29491\u001b[0m\n",
      "\u001b[34m[70]#011train-rmse:2.29491\u001b[0m\n",
      "\u001b[34m[71]#011train-rmse:2.29491\u001b[0m\n",
      "\u001b[34m[72]#011train-rmse:2.29491\u001b[0m\n",
      "\u001b[34m[73]#011train-rmse:2.29491\u001b[0m\n",
      "\u001b[34m[74]#011train-rmse:2.29491\u001b[0m\n",
      "\u001b[34m[75]#011train-rmse:2.29491\u001b[0m\n",
      "\u001b[34m[76]#011train-rmse:2.29491\u001b[0m\n",
      "\u001b[34m[77]#011train-rmse:2.29491\u001b[0m\n",
      "\u001b[34m[78]#011train-rmse:2.29491\u001b[0m\n",
      "\u001b[34m[79]#011train-rmse:2.29491\u001b[0m\n",
      "\u001b[34m[80]#011train-rmse:2.29491\u001b[0m\n",
      "\u001b[34m[81]#011train-rmse:2.29491\u001b[0m\n",
      "\u001b[34m[82]#011train-rmse:2.29491\u001b[0m\n",
      "\u001b[34m[83]#011train-rmse:2.29491\u001b[0m\n",
      "\u001b[34m[84]#011train-rmse:2.29491\u001b[0m\n",
      "\u001b[34m[85]#011train-rmse:2.29491\u001b[0m\n",
      "\u001b[34m[86]#011train-rmse:2.29491\u001b[0m\n",
      "\u001b[34m[87]#011train-rmse:2.29491\u001b[0m\n",
      "\u001b[34m[88]#011train-rmse:2.29491\u001b[0m\n",
      "\u001b[34m[89]#011train-rmse:2.29491\u001b[0m\n",
      "\u001b[34m[90]#011train-rmse:2.29491\u001b[0m\n",
      "\u001b[34m[91]#011train-rmse:2.29491\u001b[0m\n",
      "\u001b[34m[92]#011train-rmse:2.29491\u001b[0m\n",
      "\u001b[34m[93]#011train-rmse:2.29491\u001b[0m\n",
      "\u001b[34m[94]#011train-rmse:2.29491\u001b[0m\n",
      "\u001b[34m[95]#011train-rmse:2.29491\u001b[0m\n",
      "\u001b[34m[96]#011train-rmse:2.29491\u001b[0m\n",
      "\u001b[34m[97]#011train-rmse:2.29491\u001b[0m\n",
      "\u001b[34m[98]#011train-rmse:2.29491\u001b[0m\n",
      "\u001b[34m[99]#011train-rmse:2.29491\u001b[0m\n",
      "\n",
      "2024-12-18 11:02:40 Uploading - Uploading generated training model\n",
      "2024-12-18 11:02:40 Completed - Training job completed\n",
      "Training seconds: 115\n",
      "Billable seconds: 115\n"
     ]
    },
    {
     "data": {
      "text/html": [
       "<pre style=\"white-space:pre;overflow-x:auto;line-height:normal;font-family:Menlo,'DejaVu Sans Mono',consolas,'Courier New',monospace\"><span style=\"color: #7fbfbf; text-decoration-color: #7fbfbf\">[12/18/24 11:02:57] </span><span style=\"color: #0069ff; text-decoration-color: #0069ff; font-weight: bold\">INFO    </span> Creating model with name: sagemaker-xgboost-<span style=\"color: #008080; text-decoration-color: #008080; font-weight: bold\">2024</span>-12-18-11-02-57-492    <a href=\"file:///home/ec2-user/anaconda3/envs/python3/lib/python3.10/site-packages/sagemaker/session.py\" target=\"_blank\"><span style=\"color: #7f7f7f; text-decoration-color: #7f7f7f\">session.py</span></a><span style=\"color: #7f7f7f; text-decoration-color: #7f7f7f\">:</span><a href=\"file:///home/ec2-user/anaconda3/envs/python3/lib/python3.10/site-packages/sagemaker/session.py#4094\" target=\"_blank\"><span style=\"color: #7f7f7f; text-decoration-color: #7f7f7f\">4094</span></a>\n",
       "</pre>\n"
      ],
      "text/plain": [
       "\u001b[2;36m[12/18/24 11:02:57]\u001b[0m\u001b[2;36m \u001b[0m\u001b[1;38;2;0;105;255mINFO    \u001b[0m Creating model with name: sagemaker-xgboost-\u001b[1;36m2024\u001b[0m-12-18-11-02-57-492    \u001b]8;id=477329;file:///home/ec2-user/anaconda3/envs/python3/lib/python3.10/site-packages/sagemaker/session.py\u001b\\\u001b[2msession.py\u001b[0m\u001b]8;;\u001b\\\u001b[2m:\u001b[0m\u001b]8;id=120248;file:///home/ec2-user/anaconda3/envs/python3/lib/python3.10/site-packages/sagemaker/session.py#4094\u001b\\\u001b[2m4094\u001b[0m\u001b]8;;\u001b\\\n"
      ]
     },
     "metadata": {},
     "output_type": "display_data"
    },
    {
     "data": {
      "text/html": [
       "<pre style=\"white-space:pre;overflow-x:auto;line-height:normal;font-family:Menlo,'DejaVu Sans Mono',consolas,'Courier New',monospace\"><span style=\"color: #7fbfbf; text-decoration-color: #7fbfbf\">[12/18/24 11:02:58] </span><span style=\"color: #0069ff; text-decoration-color: #0069ff; font-weight: bold\">INFO    </span> Creating endpoint-config with name xgboost-retail-endpoint             <a href=\"file:///home/ec2-user/anaconda3/envs/python3/lib/python3.10/site-packages/sagemaker/session.py\" target=\"_blank\"><span style=\"color: #7f7f7f; text-decoration-color: #7f7f7f\">session.py</span></a><span style=\"color: #7f7f7f; text-decoration-color: #7f7f7f\">:</span><a href=\"file:///home/ec2-user/anaconda3/envs/python3/lib/python3.10/site-packages/sagemaker/session.py#5889\" target=\"_blank\"><span style=\"color: #7f7f7f; text-decoration-color: #7f7f7f\">5889</span></a>\n",
       "</pre>\n"
      ],
      "text/plain": [
       "\u001b[2;36m[12/18/24 11:02:58]\u001b[0m\u001b[2;36m \u001b[0m\u001b[1;38;2;0;105;255mINFO    \u001b[0m Creating endpoint-config with name xgboost-retail-endpoint             \u001b]8;id=255406;file:///home/ec2-user/anaconda3/envs/python3/lib/python3.10/site-packages/sagemaker/session.py\u001b\\\u001b[2msession.py\u001b[0m\u001b]8;;\u001b\\\u001b[2m:\u001b[0m\u001b]8;id=117712;file:///home/ec2-user/anaconda3/envs/python3/lib/python3.10/site-packages/sagemaker/session.py#5889\u001b\\\u001b[2m5889\u001b[0m\u001b]8;;\u001b\\\n"
      ]
     },
     "metadata": {},
     "output_type": "display_data"
    },
    {
     "data": {
      "text/html": [
       "<pre style=\"white-space:pre;overflow-x:auto;line-height:normal;font-family:Menlo,'DejaVu Sans Mono',consolas,'Courier New',monospace\"><span style=\"color: #7fbfbf; text-decoration-color: #7fbfbf\">                    </span><span style=\"color: #0069ff; text-decoration-color: #0069ff; font-weight: bold\">INFO    </span> Creating endpoint with name xgboost-retail-endpoint                    <a href=\"file:///home/ec2-user/anaconda3/envs/python3/lib/python3.10/site-packages/sagemaker/session.py\" target=\"_blank\"><span style=\"color: #7f7f7f; text-decoration-color: #7f7f7f\">session.py</span></a><span style=\"color: #7f7f7f; text-decoration-color: #7f7f7f\">:</span><a href=\"file:///home/ec2-user/anaconda3/envs/python3/lib/python3.10/site-packages/sagemaker/session.py#4711\" target=\"_blank\"><span style=\"color: #7f7f7f; text-decoration-color: #7f7f7f\">4711</span></a>\n",
       "</pre>\n"
      ],
      "text/plain": [
       "\u001b[2;36m                   \u001b[0m\u001b[2;36m \u001b[0m\u001b[1;38;2;0;105;255mINFO    \u001b[0m Creating endpoint with name xgboost-retail-endpoint                    \u001b]8;id=883190;file:///home/ec2-user/anaconda3/envs/python3/lib/python3.10/site-packages/sagemaker/session.py\u001b\\\u001b[2msession.py\u001b[0m\u001b]8;;\u001b\\\u001b[2m:\u001b[0m\u001b]8;id=835911;file:///home/ec2-user/anaconda3/envs/python3/lib/python3.10/site-packages/sagemaker/session.py#4711\u001b\\\u001b[2m4711\u001b[0m\u001b]8;;\u001b\\\n"
      ]
     },
     "metadata": {},
     "output_type": "display_data"
    },
    {
     "name": "stdout",
     "output_type": "stream",
     "text": [
      "------!Model has been deployed!\n"
     ]
    }
   ],
   "source": [
    "from sagemaker import get_execution_role\n",
    "from sagemaker.estimator import Estimator\n",
    "from sagemaker.inputs import TrainingInput\n",
    "from sagemaker.image_uris import retrieve\n",
    "\n",
    "import sagemaker\n",
    "import boto3\n",
    "\n",
    "# Initialize SageMaker session\n",
    "sagemaker_session = sagemaker.Session()\n",
    "role = get_execution_role()\n",
    "\n",
    "# S3 Bucket for model artifacts\n",
    "bucket = 'preprocessed-online-retail-dataset'\n",
    "data_location = f's3://{bucket}/Preprocessed_Online_Retail.csv'\n",
    "\n",
    "# Retrieve XGBoost Docker image for your region\n",
    "container = retrieve('xgboost', boto3.Session().region_name, version='1.0-1')\n",
    "\n",
    "# Setup XGBoost Estimator\n",
    "xgboost = Estimator(\n",
    "    container,\n",
    "    role,\n",
    "    instance_count=1,\n",
    "    instance_type='ml.m4.xlarge',  # Change instance type if needed\n",
    "    output_path=f's3://{bucket}/output',\n",
    "    sagemaker_session=sagemaker_session\n",
    ")\n",
    "\n",
    "# Set model hyperparameters\n",
    "xgboost.set_hyperparameters(objective='reg:linear', num_round=100)\n",
    "\n",
    "# Input data configuration\n",
    "s3_input_train = TrainingInput(s3_data=data_location, content_type='csv')\n",
    "\n",
    "# Train the model\n",
    "xgboost.fit({'train': s3_input_train})\n",
    "\n",
    "# Deploy the model to create a real-time endpoint\n",
    "predictor = xgboost.deploy(\n",
    "    initial_instance_count=1,\n",
    "    instance_type='ml.m4.xlarge',  # Choose the instance type for deployment\n",
    "    endpoint_name='xgboost-retail-endpoint'  # Name of the endpoint\n",
    ")\n",
    "\n",
    "print(\"Model has been deployed!\")"
   ]
  },
  {
   "cell_type": "code",
   "execution_count": 20,
   "id": "525e3dc3",
   "metadata": {},
   "outputs": [
    {
     "name": "stdout",
     "output_type": "stream",
     "text": [
      "Current directory: /home/ec2-user/SageMaker\n",
      "Files in the directory: ['lost+found', '.ipynb_checkpoints', 'pre-processed-online-retail.ipynb', '.sparkmagic']\n"
     ]
    }
   ],
   "source": [
    "import os\n",
    "\n",
    "# List all files in the current working directory\n",
    "print(\"Current directory:\", os.getcwd())\n",
    "print(\"Files in the directory:\", os.listdir())"
   ]
  },
  {
   "cell_type": "code",
   "execution_count": 21,
   "id": "a1e53d64",
   "metadata": {},
   "outputs": [
    {
     "name": "stdout",
     "output_type": "stream",
     "text": [
      "Files in the directory: ['lost+found', 'Preprocessed_Online_Retail.csv', '.ipynb_checkpoints', 'pre-processed-online-retail.ipynb', '.sparkmagic']\n"
     ]
    }
   ],
   "source": [
    "import os\n",
    "print(\"Files in the directory:\", os.listdir())"
   ]
  },
  {
   "cell_type": "code",
   "execution_count": 23,
   "id": "bb93627d",
   "metadata": {},
   "outputs": [
    {
     "name": "stdout",
     "output_type": "stream",
     "text": [
      "InvoiceNo        int64\n",
      "StockCode       object\n",
      "Description     object\n",
      "Quantity         int64\n",
      "InvoiceDate     object\n",
      "UnitPrice      float64\n",
      "CustomerID       int64\n",
      "Country         object\n",
      "TotalValue     float64\n",
      "Year             int64\n",
      "Month            int64\n",
      "Day              int64\n",
      "dtype: object\n"
     ]
    }
   ],
   "source": [
    "import pandas as pd\n",
    "\n",
    "# Read the CSV file\n",
    "file_path = 'Preprocessed_Online_Retail.csv'\n",
    "data = pd.read_csv(file_path)\n",
    "\n",
    "# Check the data types of all columns\n",
    "print(data.dtypes)"
   ]
  },
  {
   "cell_type": "code",
   "execution_count": 24,
   "id": "49a770bf",
   "metadata": {},
   "outputs": [
    {
     "name": "stdout",
     "output_type": "stream",
     "text": [
      "Corrected Payload: 536365.0,6.0,2.55,17850.0,15.3,2010.0,12.0,1.0\n"
     ]
    }
   ],
   "source": [
    "# Drop non-numeric columns (e.g., 'InvoiceNo')\n",
    "numeric_data = data.select_dtypes(include=['number'])\n",
    "\n",
    "# Extract the first row as the payload\n",
    "row = numeric_data.iloc[0]\n",
    "payload = ','.join(map(str, row.values))\n",
    "print(\"Corrected Payload:\", payload)"
   ]
  },
  {
   "cell_type": "code",
   "execution_count": 32,
   "id": "c34ca22f",
   "metadata": {},
   "outputs": [
    {
     "name": "stdout",
     "output_type": "stream",
     "text": [
      "Transformed data types:\n",
      " InvoiceNo        int64\n",
      "StockCode        int64\n",
      "Description      int64\n",
      "Quantity         int64\n",
      "InvoiceDate     object\n",
      "UnitPrice      float64\n",
      "CustomerID       int64\n",
      "Country          int64\n",
      "TotalValue     float64\n",
      "Year             int64\n",
      "Month            int64\n",
      "Day              int64\n",
      "dtype: object\n",
      "Feature count after encoding: 11\n",
      "Corrected Payload: 536365.0,71.0,66.0,6.0,2.55,17850.0,1.0,15.3,2010.0,12.0,1.0\n"
     ]
    }
   ],
   "source": [
    "import pandas as pd\n",
    "from sklearn.preprocessing import LabelEncoder\n",
    "\n",
    "# Load the original CSV\n",
    "file_path = 'Preprocessed_Online_Retail.csv'\n",
    "data = pd.read_csv(file_path)\n",
    "\n",
    "# Transform categorical features (example using LabelEncoder)\n",
    "label_encoder = LabelEncoder()\n",
    "\n",
    "# Encode non-numeric features (example)\n",
    "data['StockCode'] = label_encoder.fit_transform(data['StockCode'])\n",
    "data['Description'] = label_encoder.fit_transform(data['Description'])\n",
    "data['Country'] = label_encoder.fit_transform(data['Country'])\n",
    "\n",
    "# Verify the transformed dataset\n",
    "print(\"Transformed data types:\\n\", data.dtypes)\n",
    "\n",
    "# Recheck feature count after preprocessing\n",
    "numeric_data = data.select_dtypes(include=['number'])\n",
    "print(\"Feature count after encoding:\", len(numeric_data.columns))\n",
    "\n",
    "# Prepare the payload with 11 features\n",
    "row = numeric_data.iloc[0]  # First row for testing\n",
    "payload = ','.join(map(str, row.values))\n",
    "print(\"Corrected Payload:\", payload)"
   ]
  },
  {
   "cell_type": "code",
   "execution_count": 33,
   "id": "25689bbf",
   "metadata": {},
   "outputs": [
    {
     "name": "stdout",
     "output_type": "stream",
     "text": [
      "Prediction Result: 536370.9375\n"
     ]
    }
   ],
   "source": [
    "import boto3\n",
    "\n",
    "# SageMaker runtime client\n",
    "runtime = boto3.client('sagemaker-runtime')\n",
    "\n",
    "# Endpoint name (replace with your endpoint name)\n",
    "endpoint_name = 'xgboost-retail-endpoint'\n",
    "\n",
    "# Payload with 11 features\n",
    "payload = '536365.0,71.0,66.0,6.0,2.55,17850.0,1.0,15.3,2010.0,12.0,1.0'\n",
    "\n",
    "# Invoke the endpoint\n",
    "response = runtime.invoke_endpoint(\n",
    "    EndpointName=endpoint_name,\n",
    "    ContentType='text/csv',\n",
    "    Body=payload\n",
    ")\n",
    "\n",
    "# Decode and print the prediction result\n",
    "prediction = response['Body'].read().decode('utf-8')\n",
    "print(\"Prediction Result:\", prediction)\n"
   ]
  },
  {
   "cell_type": "code",
   "execution_count": 34,
   "id": "eff45dbb",
   "metadata": {},
   "outputs": [
    {
     "name": "stdout",
     "output_type": "stream",
     "text": [
      "Endpoint deleted successfully.\n"
     ]
    }
   ],
   "source": [
    "# Clean up the endpoint\n",
    "import boto3\n",
    "\n",
    "sagemaker = boto3.client('sagemaker')\n",
    "sagemaker.delete_endpoint(EndpointName='xgboost-retail-endpoint')\n",
    "print(\"Endpoint deleted successfully.\")"
   ]
  },
  {
   "cell_type": "code",
   "execution_count": null,
   "id": "5d9bbdb1",
   "metadata": {},
   "outputs": [],
   "source": []
  }
 ],
 "metadata": {
  "kernelspec": {
   "display_name": "conda_python3",
   "language": "python",
   "name": "conda_python3"
  },
  "language_info": {
   "codemirror_mode": {
    "name": "ipython",
    "version": 3
   },
   "file_extension": ".py",
   "mimetype": "text/x-python",
   "name": "python",
   "nbconvert_exporter": "python",
   "pygments_lexer": "ipython3",
   "version": "3.10.15"
  }
 },
 "nbformat": 4,
 "nbformat_minor": 5
}
